{
  "nbformat": 4,
  "nbformat_minor": 0,
  "metadata": {
    "colab": {
      "provenance": []
    },
    "kernelspec": {
      "name": "python3",
      "display_name": "Python 3"
    },
    "language_info": {
      "name": "python"
    }
  },
  "cells": [
    {
      "cell_type": "code",
      "source": [
        "# Build Min Heap (Heapify)\n",
        "# Time: O(n), Space: O(1)\n",
        "\n",
        "A = [-4, 3, 1, 0, 2, 5, 10, 8, 12, 9]\n",
        "\n",
        "import heapq\n",
        "heapq.heapify(A)\n",
        "\n",
        "A"
      ],
      "metadata": {
        "colab": {
          "base_uri": "https://localhost:8080/"
        },
        "id": "82OeUGz3aCUN",
        "outputId": "533b950c-c3ec-4d3f-e959-6b814d147304"
      },
      "execution_count": 1,
      "outputs": [
        {
          "output_type": "execute_result",
          "data": {
            "text/plain": [
              "[-4, 0, 1, 3, 2, 5, 10, 8, 12, 9]"
            ]
          },
          "metadata": {},
          "execution_count": 1
        }
      ]
    },
    {
      "cell_type": "code",
      "source": [
        "# Heap Push (Insert element)\n",
        "# Time: O(log n)\n",
        "\n",
        "heapq.heappush(A, 4)\n",
        "\n",
        "A"
      ],
      "metadata": {
        "colab": {
          "base_uri": "https://localhost:8080/"
        },
        "id": "vP4H_ds4aVSc",
        "outputId": "e59cab6d-f424-458c-9d55-d0e5809b285c"
      },
      "execution_count": 2,
      "outputs": [
        {
          "output_type": "execute_result",
          "data": {
            "text/plain": [
              "[-4, 0, 1, 3, 2, 5, 10, 8, 12, 9, 4]"
            ]
          },
          "metadata": {},
          "execution_count": 2
        }
      ]
    },
    {
      "cell_type": "code",
      "source": [
        "# Heap Pop (Extract min)\n",
        "# Time: O(log n)\n",
        "\n",
        "minn = heapq.heappop(A)\n",
        "\n",
        "A"
      ],
      "metadata": {
        "colab": {
          "base_uri": "https://localhost:8080/"
        },
        "id": "9LX5tMegawZr",
        "outputId": "71a725f1-ddbd-4e0d-f2e6-7a5c24d315b0"
      },
      "execution_count": 3,
      "outputs": [
        {
          "output_type": "execute_result",
          "data": {
            "text/plain": [
              "[0, 2, 1, 3, 4, 5, 10, 8, 12, 9]"
            ]
          },
          "metadata": {},
          "execution_count": 3
        }
      ]
    },
    {
      "cell_type": "code",
      "source": [
        "# Heap Sort\n",
        "# Time: O(n log n), Space: O(n)\n",
        "# NOTE: O(1) Space is possible via swapping, but this is complex\n",
        "\n",
        "def heapsort(arr):\n",
        "  heapq.heapify(arr)\n",
        "  n = len(arr)\n",
        "  new_list = [0] * n\n",
        "\n",
        "  for i in range(n):\n",
        "    minn = heapq.heappop(arr)\n",
        "    new_list[i] = minn\n",
        "\n",
        "  return new_list\n",
        "\n",
        "heapsort([1, 3, 5, 7, 9, 2, 4, 6, 8, 0])"
      ],
      "metadata": {
        "colab": {
          "base_uri": "https://localhost:8080/"
        },
        "id": "-THGTJRIbFXK",
        "outputId": "5f3f3a2d-ef35-42ba-b17e-9e93dd3a154e"
      },
      "execution_count": 4,
      "outputs": [
        {
          "output_type": "execute_result",
          "data": {
            "text/plain": [
              "[0, 1, 2, 3, 4, 5, 6, 7, 8, 9]"
            ]
          },
          "metadata": {},
          "execution_count": 4
        }
      ]
    },
    {
      "cell_type": "code",
      "source": [
        "# Heap Push Pop: Time: O(log n)\n",
        "\n",
        "heapq.heappushpop(A, 99)\n",
        "A\n",
        "heapq.heapify(A)\n",
        "A"
      ],
      "metadata": {
        "colab": {
          "base_uri": "https://localhost:8080/"
        },
        "id": "IrqlmOChb31W",
        "outputId": "b478ab89-4118-4689-ac91-0f32504785f6"
      },
      "execution_count": 6,
      "outputs": [
        {
          "output_type": "execute_result",
          "data": {
            "text/plain": [
              "[2, 3, 5, 8, 4, 99, 10, 99, 12, 9]"
            ]
          },
          "metadata": {},
          "execution_count": 6
        }
      ]
    },
    {
      "cell_type": "code",
      "source": [
        "# Peak at Min: Time O(1)\n",
        "A[0]"
      ],
      "metadata": {
        "colab": {
          "base_uri": "https://localhost:8080/"
        },
        "id": "QfjyPBjieXEH",
        "outputId": "99a644a5-cc1a-4ee1-e07d-7d69d1190397"
      },
      "execution_count": null,
      "outputs": [
        {
          "output_type": "execute_result",
          "data": {
            "text/plain": [
              "1"
            ]
          },
          "metadata": {},
          "execution_count": 16
        }
      ]
    },
    {
      "cell_type": "code",
      "source": [
        "# Max Heap\n",
        "\n",
        "B = [-4, 3, 1, 0, 2, 5, 10, 8, 12, 9]\n",
        "n = len(B)\n",
        "\n",
        "for i in range(n):\n",
        "  B[i] = -B[i]\n",
        "\n",
        "heapq.heapify(B)\n",
        "\n",
        "B"
      ],
      "metadata": {
        "colab": {
          "base_uri": "https://localhost:8080/"
        },
        "id": "V12KgoSHcYuz",
        "outputId": "92aa2ce1-4639-4f0d-d18a-32ad63917a07"
      },
      "execution_count": null,
      "outputs": [
        {
          "output_type": "execute_result",
          "data": {
            "text/plain": [
              "[-12, -9, -10, -8, -2, -5, -1, -3, 0, 4]"
            ]
          },
          "metadata": {},
          "execution_count": 12
        }
      ]
    },
    {
      "cell_type": "code",
      "source": [
        "largest = -heapq.heappop(B)\n",
        "\n",
        "largest"
      ],
      "metadata": {
        "colab": {
          "base_uri": "https://localhost:8080/"
        },
        "id": "WllXCvXcc2l4",
        "outputId": "9843fbbd-a2ca-4ce1-a99d-ec552c6d025f"
      },
      "execution_count": null,
      "outputs": [
        {
          "output_type": "execute_result",
          "data": {
            "text/plain": [
              "12"
            ]
          },
          "metadata": {},
          "execution_count": 13
        }
      ]
    },
    {
      "cell_type": "code",
      "source": [
        "heapq.heappush(B, -7) # Insert 7 into max heap\n",
        "\n",
        "B"
      ],
      "metadata": {
        "colab": {
          "base_uri": "https://localhost:8080/"
        },
        "id": "i7FOYVGjdlyg",
        "outputId": "3b616c30-ab6f-4de3-9663-527df43a8f40"
      },
      "execution_count": null,
      "outputs": [
        {
          "output_type": "execute_result",
          "data": {
            "text/plain": [
              "[-10, -9, -5, -8, -7, 4, -1, -3, 0, -2]"
            ]
          },
          "metadata": {},
          "execution_count": 14
        }
      ]
    },
    {
      "cell_type": "code",
      "source": [
        "# Build heap from scratch - Time: O(n log n)\n",
        "\n",
        "C = [-5, 4, 2, 1, 7, 0, 3]\n",
        "\n",
        "heap = []\n",
        "\n",
        "for x in C:\n",
        "  heapq.heappush(heap, x)\n",
        "  print(heap, len(heap)) # Check size of heap"
      ],
      "metadata": {
        "colab": {
          "base_uri": "https://localhost:8080/"
        },
        "id": "K9KFBfCjeOer",
        "outputId": "b50bdd77-32cc-48b7-f474-a19876bbf77a"
      },
      "execution_count": null,
      "outputs": [
        {
          "output_type": "stream",
          "name": "stdout",
          "text": [
            "[-5] 1\n",
            "[-5, 4] 2\n",
            "[-5, 4, 2] 3\n",
            "[-5, 1, 2, 4] 4\n",
            "[-5, 1, 2, 4, 7] 5\n",
            "[-5, 1, 0, 4, 7, 2] 6\n",
            "[-5, 1, 0, 4, 7, 2, 3] 7\n"
          ]
        }
      ]
    },
    {
      "cell_type": "code",
      "source": [
        "# Putting tuples of items on the heap\n",
        "\n",
        "D = [5, 4, 3, 5, 4, 3, 5, 5, 4]\n",
        "\n",
        "from collections import Counter\n",
        "\n",
        "counter = Counter(D)\n",
        "\n",
        "counter"
      ],
      "metadata": {
        "colab": {
          "base_uri": "https://localhost:8080/"
        },
        "id": "7i54l3yZifSF",
        "outputId": "a1d63a8f-9e87-44ac-bbc3-20ab71465ad8"
      },
      "execution_count": null,
      "outputs": [
        {
          "output_type": "execute_result",
          "data": {
            "text/plain": [
              "Counter({5: 4, 4: 3, 3: 2})"
            ]
          },
          "metadata": {},
          "execution_count": 21
        }
      ]
    },
    {
      "cell_type": "code",
      "source": [
        "heap = []\n",
        "\n",
        "for k, v in counter.items():\n",
        "  heapq.heappush(heap, (v, k))\n",
        "\n",
        "heap"
      ],
      "metadata": {
        "colab": {
          "base_uri": "https://localhost:8080/"
        },
        "id": "3R-IXtgDixvp",
        "outputId": "6d6ee677-c246-44fb-fc1d-2af1d180d14c"
      },
      "execution_count": null,
      "outputs": [
        {
          "output_type": "execute_result",
          "data": {
            "text/plain": [
              "[(2, 3), (4, 5), (3, 4)]"
            ]
          },
          "metadata": {},
          "execution_count": 28
        }
      ]
    }
  ]
}